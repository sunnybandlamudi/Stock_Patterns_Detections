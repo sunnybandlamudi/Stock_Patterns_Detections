{
 "cells": [
  {
   "cell_type": "code",
   "execution_count": 59,
   "metadata": {
    "collapsed": true,
    "pycharm": {
     "name": "#%%\n"
    }
   },
   "outputs": [
    {
     "name": "stdout",
     "output_type": "stream",
     "text": [
      " Volume in drive C has no label.\n",
      " Volume Serial Number is D4AA-9599\n",
      "\n",
      " Directory of C:\\Workspace\\Workspace\\VSTS\\Services\\pyproject\n",
      "\n",
      "08/05/2020  12:22 PM    <DIR>          .\n",
      "08/05/2020  12:22 PM    <DIR>          ..\n",
      "08/05/2020  12:21 PM    <DIR>          .idea\n",
      "08/03/2020  02:55 PM               515 nse-pypi.py\n",
      "07/30/2020  10:51 PM               496 nsefile.py\n",
      "08/05/2020  12:22 PM             3,118 nselist.ipynb\n",
      "08/04/2020  02:16 PM                26 osFile.py\n",
      "07/30/2020  06:38 PM    <DIR>          venv\n",
      "               4 File(s)          4,155 bytes\n",
      "               4 Dir(s)  102,748,921,856 bytes free\n",
      "\n"
     ]
    }
   ],
   "source": []
  },
  {
   "cell_type": "code",
   "execution_count": null,
   "outputs": [],
   "source": [
    "from nse import Nse\n",
    "from pprint import pprint;\n",
    "import  requests as req;\n",
    "from nsetools import nse\n",
    "import json;\n",
    "\n",
    "\n",
    "db = Nse()\n",
    "fno = nse.Nse()\n",
    "fno_lot=fno.get_fno_lot_sizes(as_json=False);\n",
    "\n",
    "res = req.get('https://www.nseindia.com/api/liveEquity-derivatives?index=stock_fut')\n",
    "pprint(res)\n",
    "\n"
   ],
   "metadata": {
    "collapsed": false,
    "pycharm": {
     "name": "#%%\n",
     "is_executing": true
    }
   }
  }
 ],
 "metadata": {
  "kernelspec": {
   "display_name": "Python 3",
   "language": "python",
   "name": "python3"
  },
  "language_info": {
   "codemirror_mode": {
    "name": "ipython",
    "version": 2
   },
   "file_extension": ".py",
   "mimetype": "text/x-python",
   "name": "python",
   "nbconvert_exporter": "python",
   "pygments_lexer": "ipython2",
   "version": "2.7.6"
  }
 },
 "nbformat": 4,
 "nbformat_minor": 0
}